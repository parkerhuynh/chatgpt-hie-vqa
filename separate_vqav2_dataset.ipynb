{
 "cells": [
  {
   "cell_type": "code",
   "execution_count": 21,
   "metadata": {},
   "outputs": [],
   "source": [
    "import json\n",
    "import pandas as pd\n",
    "import random"
   ]
  },
  {
   "cell_type": "code",
   "execution_count": 23,
   "metadata": {},
   "outputs": [
    {
     "name": "stdout",
     "output_type": "stream",
     "text": [
      "number of val annotations 214354\n",
      "number of val images 40504\n"
     ]
    }
   ],
   "source": [
    "with open(\"/home/ndhuynh/data/vqav2/v2_mscoco_val2014_annotations.json\", 'r') as file:\n",
    "    val_annotation = json.load(file)[\"annotations\"]\n",
    "val_annotations_pd = pd.DataFrame(val_annotation)\n",
    "val_annotations_pd.head()\n",
    "number_val_image = set(val_annotations_pd[\"image_id\"])\n",
    "print(f\"number of val annotations {len(val_annotations_pd)}\")\n",
    "print(f\"number of val images {len(number_val_image)}\")"
   ]
  },
  {
   "cell_type": "code",
   "execution_count": 3,
   "metadata": {},
   "outputs": [
    {
     "name": "stdout",
     "output_type": "stream",
     "text": [
      "number of train annotations 443757\n",
      "number of train images 82783\n"
     ]
    }
   ],
   "source": [
    "with open(\"/home/ndhuynh/data/vqav2/v2_mscoco_train2014_annotations.json\", 'r') as file:\n",
    "    train_annotations = json.load(file)[\"annotations\"]\n",
    "train_annotations_pd = pd.DataFrame(train_annotations)\n",
    "train_annotations_pd.head()\n",
    "number_train_images = set(train_annotations_pd[\"image_id\"])\n",
    "print(f\"number of train annotations {len(train_annotations_pd)}\")\n",
    "print(f\"number of train images {len(number_train_images)}\")"
   ]
  },
  {
   "cell_type": "code",
   "execution_count": 4,
   "metadata": {},
   "outputs": [
    {
     "name": "stderr",
     "output_type": "stream",
     "text": [
      "/tmp/ipykernel_1718373/2104645607.py:2: DeprecationWarning: Sampling from a set deprecated\n",
      "since Python 3.9 and will be removed in a subsequent version.\n",
      "  sample_test_images = random.sample(number_train_images, 20000)\n"
     ]
    }
   ],
   "source": [
    "random.seed(42)\n",
    "sample_test_images = random.sample(number_train_images, 20000)"
   ]
  },
  {
   "cell_type": "code",
   "execution_count": null,
   "metadata": {},
   "outputs": [],
   "source": []
  },
  {
   "cell_type": "code",
   "execution_count": 6,
   "metadata": {},
   "outputs": [
    {
     "name": "stdout",
     "output_type": "stream",
     "text": [
      "number of new train annotation 335633\n",
      "number of new train images 62783\n"
     ]
    }
   ],
   "source": [
    "new_train_annotations_pd = train_annotations_pd[~train_annotations_pd[\"image_id\"].isin(sample_test_images)]\n",
    "number_train_images = set(new_train_annotations_pd[\"image_id\"])\n",
    "print(f\"number of new train annotation {len(new_train_annotations_pd)}\")\n",
    "print(f\"number of new train images {len(number_train_images)}\")"
   ]
  },
  {
   "cell_type": "code",
   "execution_count": 7,
   "metadata": {},
   "outputs": [
    {
     "name": "stdout",
     "output_type": "stream",
     "text": [
      "number of val questions 214354\n",
      "number of val images 40504\n"
     ]
    }
   ],
   "source": [
    "print(f\"number of val questions {len(val_annotations)}\")\n",
    "print(f\"number of val images {len(number_val_image)}\")"
   ]
  },
  {
   "cell_type": "code",
   "execution_count": 10,
   "metadata": {},
   "outputs": [
    {
     "name": "stdout",
     "output_type": "stream",
     "text": [
      "number of test annotation 108124\n",
      "number of test images 20000\n"
     ]
    }
   ],
   "source": [
    "test_annotations_pd = train_annotations_pd[train_annotations_pd[\"image_id\"].isin(sample_test_images)]\n",
    "number_test_images = set(test_annotations_pd[\"image_id\"])\n",
    "print(f\"number of test annotation {len(test_annotations_pd)}\")\n",
    "print(f\"number of test images {len(number_test_images)}\")"
   ]
  },
  {
   "cell_type": "code",
   "execution_count": null,
   "metadata": {},
   "outputs": [],
   "source": [
    "with open(file_path, \"wb\") as f:\n",
    "    # Dump the list to the file\n",
    "    pickle.dump(my_list, f)"
   ]
  },
  {
   "cell_type": "code",
   "execution_count": 19,
   "metadata": {},
   "outputs": [],
   "source": [
    "with open(\"new_vqa2_train_annotation.json\", \"w\") as f:\n",
    "    # Convert the list to JSON and write it to the file\n",
    "    json.dump(new_train_annotations_pd.to_dict(\"records\"), f)"
   ]
  },
  {
   "cell_type": "code",
   "execution_count": 20,
   "metadata": {},
   "outputs": [],
   "source": [
    "with open(\"new_vqa2_test_annotation.json\", \"w\") as f:\n",
    "    # Convert the list to JSON and write it to the file\n",
    "    json.dump(test_annotations_pd.to_dict(\"records\"), f)"
   ]
  },
  {
   "cell_type": "code",
   "execution_count": 24,
   "metadata": {},
   "outputs": [],
   "source": [
    "with open(\"new_vqa2_val_annotation.json\", \"w\") as f:\n",
    "    # Convert the list to JSON and write it to the file\n",
    "    json.dump(val_annotations_pd.to_dict(\"records\"), f)"
   ]
  },
  {
   "cell_type": "code",
   "execution_count": 25,
   "metadata": {},
   "outputs": [
    {
     "data": {
      "text/plain": [
       "214354"
      ]
     },
     "execution_count": 25,
     "metadata": {},
     "output_type": "execute_result"
    }
   ],
   "source": [
    "len(val_annotations_pd)"
   ]
  },
  {
   "cell_type": "code",
   "execution_count": null,
   "metadata": {},
   "outputs": [],
   "source": []
  },
  {
   "cell_type": "code",
   "execution_count": 29,
   "metadata": {},
   "outputs": [],
   "source": [
    "with open(\"/home/ndhuynh/data/vqav2/v2_OpenEnded_mscoco_val2014_questions.json\", 'r') as file:\n",
    "    val_question = json.load(file)[\"questions\"]\n",
    "val_question_pd = pd.DataFrame(val_question)"
   ]
  },
  {
   "cell_type": "code",
   "execution_count": 31,
   "metadata": {},
   "outputs": [],
   "source": [
    "with open(\"new_vqa2_val_question.json\", \"w\") as f:\n",
    "    # Convert the list to JSON and write it to the file\n",
    "    json.dump(val_question_pd.to_dict(\"records\"), f)"
   ]
  },
  {
   "cell_type": "code",
   "execution_count": 35,
   "metadata": {},
   "outputs": [],
   "source": [
    "with open(\"/home/ndhuynh/data/vqav2/v2_OpenEnded_mscoco_train2014_questions.json\", 'r') as file:\n",
    "    train_annotations = json.load(file)[\"questions\"]\n",
    "train_question_pd = pd.DataFrame(train_annotations)"
   ]
  },
  {
   "cell_type": "code",
   "execution_count": 37,
   "metadata": {},
   "outputs": [
    {
     "name": "stdout",
     "output_type": "stream",
     "text": [
      "number of new train question 335633\n"
     ]
    }
   ],
   "source": [
    "new_train_question_pd = train_question_pd[~train_question_pd[\"image_id\"].isin(sample_test_images)]\n",
    "print(f\"number of new train question {len(new_train_question_pd)}\")"
   ]
  },
  {
   "cell_type": "code",
   "execution_count": 38,
   "metadata": {},
   "outputs": [],
   "source": [
    "with open(\"new_vqa2_train_question.json\", \"w\") as f:\n",
    "    # Convert the list to JSON and write it to the file\n",
    "    json.dump(new_train_question_pd.to_dict(\"records\"), f)"
   ]
  },
  {
   "cell_type": "code",
   "execution_count": 43,
   "metadata": {},
   "outputs": [
    {
     "name": "stdout",
     "output_type": "stream",
     "text": [
      "number of new test question 108124\n"
     ]
    }
   ],
   "source": [
    "new_test_question_pd = train_question_pd[train_question_pd[\"image_id\"].isin(sample_test_images)]\n",
    "print(f\"number of new test question {len(new_test_question_pd)}\")"
   ]
  },
  {
   "cell_type": "code",
   "execution_count": 44,
   "metadata": {},
   "outputs": [],
   "source": [
    "with open(\"new_vqa2_test_question.json\", \"w\") as f:\n",
    "    # Convert the list to JSON and write it to the file\n",
    "    json.dump(new_test_question_pd.to_dict(\"records\"), f)"
   ]
  },
  {
   "cell_type": "code",
   "execution_count": null,
   "metadata": {},
   "outputs": [],
   "source": []
  },
  {
   "cell_type": "code",
   "execution_count": 55,
   "metadata": {},
   "outputs": [
    {
     "name": "stdout",
     "output_type": "stream",
     "text": [
      "335633\n"
     ]
    },
    {
     "data": {
      "text/plain": [
       "{'question_type': 'is the',\n",
       " 'multiple_choice_answer': 'yes',\n",
       " 'answers': [{'answer': 'yes', 'answer_confidence': 'yes', 'answer_id': 1},\n",
       "  {'answer': 'yes', 'answer_confidence': 'yes', 'answer_id': 2},\n",
       "  {'answer': 'yes', 'answer_confidence': 'yes', 'answer_id': 3},\n",
       "  {'answer': 'yes', 'answer_confidence': 'maybe', 'answer_id': 4},\n",
       "  {'answer': 'yes', 'answer_confidence': 'yes', 'answer_id': 5},\n",
       "  {'answer': 'yes', 'answer_confidence': 'yes', 'answer_id': 6},\n",
       "  {'answer': 'yes', 'answer_confidence': 'yes', 'answer_id': 7},\n",
       "  {'answer': 'yes', 'answer_confidence': 'yes', 'answer_id': 8},\n",
       "  {'answer': 'yes', 'answer_confidence': 'maybe', 'answer_id': 9},\n",
       "  {'answer': 'yes', 'answer_confidence': 'yes', 'answer_id': 10}],\n",
       " 'image_id': 524291,\n",
       " 'answer_type': 'yes/no',\n",
       " 'question_id': 524291001}"
      ]
     },
     "execution_count": 55,
     "metadata": {},
     "output_type": "execute_result"
    }
   ],
   "source": [
    "with open(\"new_vqa2_train_annotation.json\", \"r\") as f:\n",
    "    # Load the list from the file\n",
    "    loaded_list = json.load(f)\n",
    "print(len(loaded_list))\n",
    "loaded_list[1]"
   ]
  },
  {
   "cell_type": "code",
   "execution_count": 48,
   "metadata": {},
   "outputs": [
    {
     "data": {
      "text/plain": [
       "108124"
      ]
     },
     "execution_count": 48,
     "metadata": {},
     "output_type": "execute_result"
    }
   ],
   "source": []
  },
  {
   "cell_type": "code",
   "execution_count": null,
   "metadata": {},
   "outputs": [],
   "source": []
  }
 ],
 "metadata": {
  "kernelspec": {
   "display_name": "cartoon",
   "language": "python",
   "name": "python3"
  },
  "language_info": {
   "codemirror_mode": {
    "name": "ipython",
    "version": 3
   },
   "file_extension": ".py",
   "mimetype": "text/x-python",
   "name": "python",
   "nbconvert_exporter": "python",
   "pygments_lexer": "ipython3",
   "version": "3.9.16"
  }
 },
 "nbformat": 4,
 "nbformat_minor": 2
}
