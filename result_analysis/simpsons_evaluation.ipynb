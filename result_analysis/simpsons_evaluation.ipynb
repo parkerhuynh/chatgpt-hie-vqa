{
 "cells": [
  {
   "cell_type": "code",
   "execution_count": 31,
   "metadata": {},
   "outputs": [],
   "source": [
    "import json\n",
    "import pandas as pd\n",
    "from utils import prep_ans\n",
    "import numpy as np\n",
    "from vqa_question_type_processing import question_type_processing as vqa_question_type_processing\n",
    "from simpsons_question_type_processing import question_type_processing as simpsons_question_type_processing\n",
    "from sklearn.metrics import classification_report\n",
    "from sklearn.metrics import confusion_matrix\n",
    "from io import BytesIO\n",
    "from sklearn.metrics import accuracy_score\n",
    "from PIL import Image\n",
    "import numpy as np\n",
    "import wandb\n",
    "import matplotlib.pyplot as plt\n",
    "import seaborn as sns\n",
    "import wandb"
   ]
  },
  {
   "cell_type": "code",
   "execution_count": 32,
   "metadata": {},
   "outputs": [],
   "source": [
    "simpsons_anno_paths = [\"/home/ngoc/data/simpsons/v1_Annotation_Test_Private_110496_simpsons_vqa.json\", \"/home/ngoc/data/simpsons/v1_Annotation_Val_simpsons_vqa.json\"]"
   ]
  },
  {
   "cell_type": "code",
   "execution_count": 33,
   "metadata": {},
   "outputs": [],
   "source": [
    "vqa_ans_to_idx, idx_to_vqa_ans, question_type_map = json.load(open(\"/home/ngoc/githubs/chatgpt-hie-vqa/datasets/answer_dicts_simpsons.json\", 'r'))"
   ]
  },
  {
   "cell_type": "code",
   "execution_count": 34,
   "metadata": {},
   "outputs": [],
   "source": [
    "simpsons_question_type_dict = {}\n",
    "with open(\"/home/ngoc/githubs/chatgpt-hie-vqa/result_analysis/train_question_type_gpt_v6_simpsons_1104.json\", 'r') as file:\n",
    "    for line in file:\n",
    "        question_object = json.loads(line)\n",
    "        question_str = question_object[\"question\"]\n",
    "        question_type = question_object[\"question_type\"]\n",
    "        question_type = vqa_question_type_processing(question_type)\n",
    "        simpsons_question_type_dict[question_str] = question_type\n",
    "file.close()"
   ]
  },
  {
   "cell_type": "code",
   "execution_count": 35,
   "metadata": {},
   "outputs": [],
   "source": [
    "\n",
    "vqa_question_paths = [\"/home/ngoc/data/simpsons/v1_Question_Val_simpsons_vqa.json\", \"/home/ngoc/data/simpsons/v1_Question_Test_Private_110496_simpsons_vqa.json\"]\n",
    "vqa_questions = []\n",
    "for vqa_question_path in vqa_question_paths:\n",
    "    with open(vqa_question_path, 'r') as file:\n",
    "        vqa_questions += json.load(file)[\"questions\"]\n",
    "        \n",
    "        \n",
    "vqa_processed_questions = {}\n",
    "for question in vqa_questions:\n",
    "    vqa_processed_questions[question[\"id\"]] = simpsons_question_type_dict[question[\"question\"]]\n"
   ]
  },
  {
   "cell_type": "code",
   "execution_count": 36,
   "metadata": {},
   "outputs": [],
   "source": [
    "simpsons_answers = []\n",
    "for simpsons_anno_path in simpsons_anno_paths:\n",
    "    with open(simpsons_anno_path, 'r') as file:\n",
    "        simpsons_answers += json.load(file)[\"annotations\"]"
   ]
  },
  {
   "cell_type": "code",
   "execution_count": 37,
   "metadata": {},
   "outputs": [],
   "source": [
    "simpsons_processed_answers = {}\n",
    "for simpsons_answer in  simpsons_answers:\n",
    "    question_id = simpsons_answer[\"id\"]\n",
    "    \n",
    "    answer =  prep_ans(simpsons_answer['answer'])\n",
    "    \n",
    "    if answer in list(vqa_ans_to_idx.keys()):\n",
    "        ans_count = 0\n",
    "        for judge in simpsons_answer[\"judgements\"].values():\n",
    "            if judge[\"answer\"] == 1:\n",
    "                ans_count += 1\n",
    "        if ans_count >= 2:\n",
    "            simpsons_processed_answers[question_id] = {}\n",
    "            simpsons_processed_answers[question_id][\"answer\"] = answer\n",
    "            simpsons_processed_answers[question_id][\"question_type\"] = vqa_processed_questions[question_id]\n"
   ]
  },
  {
   "cell_type": "code",
   "execution_count": 38,
   "metadata": {},
   "outputs": [
    {
     "data": {
      "text/plain": [
       "20257"
      ]
     },
     "execution_count": 38,
     "metadata": {},
     "output_type": "execute_result"
    }
   ],
   "source": [
    "len(simpsons_processed_answers)"
   ]
  },
  {
   "cell_type": "code",
   "execution_count": 39,
   "metadata": {},
   "outputs": [],
   "source": [
    "val_result = pd.read_csv(\"val_predictions.csv\")\n",
    "test_result = pd.read_csv(\"test_predictions.csv\")\n"
   ]
  },
  {
   "cell_type": "code",
   "execution_count": 40,
   "metadata": {},
   "outputs": [
    {
     "data": {
      "text/html": [
       "<div>\n",
       "<style scoped>\n",
       "    .dataframe tbody tr th:only-of-type {\n",
       "        vertical-align: middle;\n",
       "    }\n",
       "\n",
       "    .dataframe tbody tr th {\n",
       "        vertical-align: top;\n",
       "    }\n",
       "\n",
       "    .dataframe thead th {\n",
       "        text-align: right;\n",
       "    }\n",
       "</style>\n",
       "<table border=\"1\" class=\"dataframe\">\n",
       "  <thead>\n",
       "    <tr style=\"text-align: right;\">\n",
       "      <th></th>\n",
       "      <th>question_id</th>\n",
       "      <th>vqa_prediction</th>\n",
       "      <th>question_prediction</th>\n",
       "    </tr>\n",
       "  </thead>\n",
       "  <tbody>\n",
       "    <tr>\n",
       "      <th>0</th>\n",
       "      <td>117817</td>\n",
       "      <td>dog</td>\n",
       "      <td>object</td>\n",
       "    </tr>\n",
       "    <tr>\n",
       "      <th>1</th>\n",
       "      <td>153452</td>\n",
       "      <td>round</td>\n",
       "      <td>object</td>\n",
       "    </tr>\n",
       "    <tr>\n",
       "      <th>2</th>\n",
       "      <td>153763</td>\n",
       "      <td>dress</td>\n",
       "      <td>object</td>\n",
       "    </tr>\n",
       "    <tr>\n",
       "      <th>3</th>\n",
       "      <td>130601</td>\n",
       "      <td>2</td>\n",
       "      <td>number</td>\n",
       "    </tr>\n",
       "    <tr>\n",
       "      <th>4</th>\n",
       "      <td>10620</td>\n",
       "      <td>3</td>\n",
       "      <td>number</td>\n",
       "    </tr>\n",
       "    <tr>\n",
       "      <th>...</th>\n",
       "      <td>...</td>\n",
       "      <td>...</td>\n",
       "      <td>...</td>\n",
       "    </tr>\n",
       "    <tr>\n",
       "      <th>28916</th>\n",
       "      <td>163459</td>\n",
       "      <td>sign</td>\n",
       "      <td>object</td>\n",
       "    </tr>\n",
       "    <tr>\n",
       "      <th>28917</th>\n",
       "      <td>97819</td>\n",
       "      <td>livingroom</td>\n",
       "      <td>location</td>\n",
       "    </tr>\n",
       "    <tr>\n",
       "      <th>28918</th>\n",
       "      <td>146857</td>\n",
       "      <td>right</td>\n",
       "      <td>location</td>\n",
       "    </tr>\n",
       "    <tr>\n",
       "      <th>28919</th>\n",
       "      <td>27221</td>\n",
       "      <td>yes</td>\n",
       "      <td>yes/no</td>\n",
       "    </tr>\n",
       "    <tr>\n",
       "      <th>28920</th>\n",
       "      <td>121039</td>\n",
       "      <td>yes</td>\n",
       "      <td>yes/no</td>\n",
       "    </tr>\n",
       "  </tbody>\n",
       "</table>\n",
       "<p>28921 rows × 3 columns</p>\n",
       "</div>"
      ],
      "text/plain": [
       "       question_id vqa_prediction question_prediction\n",
       "0           117817            dog              object\n",
       "1           153452          round              object\n",
       "2           153763          dress              object\n",
       "3           130601              2              number\n",
       "4            10620              3              number\n",
       "...            ...            ...                 ...\n",
       "28916       163459           sign              object\n",
       "28917        97819     livingroom            location\n",
       "28918       146857          right            location\n",
       "28919        27221            yes              yes/no\n",
       "28920       121039            yes              yes/no\n",
       "\n",
       "[28921 rows x 3 columns]"
      ]
     },
     "execution_count": 40,
     "metadata": {},
     "output_type": "execute_result"
    }
   ],
   "source": [
    "test_result"
   ]
  },
  {
   "cell_type": "code",
   "execution_count": 41,
   "metadata": {},
   "outputs": [],
   "source": [
    "def map_answer_scores(question_id):\n",
    "    if question_id in simpsons_processed_answers.keys():\n",
    "        answer_dict = simpsons_processed_answers[question_id]\n",
    "        return answer_dict[\"answer\"]\n",
    "    else:\n",
    "        return -1\n",
    "def map_question_scores(question_id):\n",
    "    if question_id in simpsons_processed_answers.keys():\n",
    "        answer_dict = simpsons_processed_answers[question_id]\n",
    "        return answer_dict[\"question_type\"]\n",
    "    else:\n",
    "        return -1"
   ]
  },
  {
   "cell_type": "code",
   "execution_count": 42,
   "metadata": {},
   "outputs": [
    {
     "data": {
      "text/html": [
       "<div>\n",
       "<style scoped>\n",
       "    .dataframe tbody tr th:only-of-type {\n",
       "        vertical-align: middle;\n",
       "    }\n",
       "\n",
       "    .dataframe tbody tr th {\n",
       "        vertical-align: top;\n",
       "    }\n",
       "\n",
       "    .dataframe thead th {\n",
       "        text-align: right;\n",
       "    }\n",
       "</style>\n",
       "<table border=\"1\" class=\"dataframe\">\n",
       "  <thead>\n",
       "    <tr style=\"text-align: right;\">\n",
       "      <th></th>\n",
       "      <th>question_id</th>\n",
       "      <th>vqa_prediction</th>\n",
       "      <th>question_prediction</th>\n",
       "      <th>vqa_label</th>\n",
       "    </tr>\n",
       "  </thead>\n",
       "  <tbody>\n",
       "    <tr>\n",
       "      <th>0</th>\n",
       "      <td>117817</td>\n",
       "      <td>dog</td>\n",
       "      <td>object</td>\n",
       "      <td>-1</td>\n",
       "    </tr>\n",
       "    <tr>\n",
       "      <th>1</th>\n",
       "      <td>153452</td>\n",
       "      <td>round</td>\n",
       "      <td>object</td>\n",
       "      <td>-1</td>\n",
       "    </tr>\n",
       "    <tr>\n",
       "      <th>2</th>\n",
       "      <td>153763</td>\n",
       "      <td>dress</td>\n",
       "      <td>object</td>\n",
       "      <td>-1</td>\n",
       "    </tr>\n",
       "    <tr>\n",
       "      <th>3</th>\n",
       "      <td>130601</td>\n",
       "      <td>2</td>\n",
       "      <td>number</td>\n",
       "      <td>-1</td>\n",
       "    </tr>\n",
       "    <tr>\n",
       "      <th>4</th>\n",
       "      <td>10620</td>\n",
       "      <td>3</td>\n",
       "      <td>number</td>\n",
       "      <td>3</td>\n",
       "    </tr>\n",
       "    <tr>\n",
       "      <th>...</th>\n",
       "      <td>...</td>\n",
       "      <td>...</td>\n",
       "      <td>...</td>\n",
       "      <td>...</td>\n",
       "    </tr>\n",
       "    <tr>\n",
       "      <th>28916</th>\n",
       "      <td>163459</td>\n",
       "      <td>sign</td>\n",
       "      <td>object</td>\n",
       "      <td>-1</td>\n",
       "    </tr>\n",
       "    <tr>\n",
       "      <th>28917</th>\n",
       "      <td>97819</td>\n",
       "      <td>livingroom</td>\n",
       "      <td>location</td>\n",
       "      <td>livingroom</td>\n",
       "    </tr>\n",
       "    <tr>\n",
       "      <th>28918</th>\n",
       "      <td>146857</td>\n",
       "      <td>right</td>\n",
       "      <td>location</td>\n",
       "      <td>-1</td>\n",
       "    </tr>\n",
       "    <tr>\n",
       "      <th>28919</th>\n",
       "      <td>27221</td>\n",
       "      <td>yes</td>\n",
       "      <td>yes/no</td>\n",
       "      <td>yes</td>\n",
       "    </tr>\n",
       "    <tr>\n",
       "      <th>28920</th>\n",
       "      <td>121039</td>\n",
       "      <td>yes</td>\n",
       "      <td>yes/no</td>\n",
       "      <td>-1</td>\n",
       "    </tr>\n",
       "  </tbody>\n",
       "</table>\n",
       "<p>28921 rows × 4 columns</p>\n",
       "</div>"
      ],
      "text/plain": [
       "       question_id vqa_prediction question_prediction   vqa_label\n",
       "0           117817            dog              object          -1\n",
       "1           153452          round              object          -1\n",
       "2           153763          dress              object          -1\n",
       "3           130601              2              number          -1\n",
       "4            10620              3              number           3\n",
       "...            ...            ...                 ...         ...\n",
       "28916       163459           sign              object          -1\n",
       "28917        97819     livingroom            location  livingroom\n",
       "28918       146857          right            location          -1\n",
       "28919        27221            yes              yes/no         yes\n",
       "28920       121039            yes              yes/no          -1\n",
       "\n",
       "[28921 rows x 4 columns]"
      ]
     },
     "execution_count": 42,
     "metadata": {},
     "output_type": "execute_result"
    }
   ],
   "source": [
    "test_result[\"vqa_label\"] = test_result[\"question_id\"].apply(lambda x: map_answer_scores(x))\n",
    "test_result"
   ]
  },
  {
   "cell_type": "code",
   "execution_count": 43,
   "metadata": {},
   "outputs": [],
   "source": [
    "test_result = test_result[test_result[\"vqa_label\"] != -1]"
   ]
  },
  {
   "cell_type": "code",
   "execution_count": 44,
   "metadata": {},
   "outputs": [
    {
     "name": "stderr",
     "output_type": "stream",
     "text": [
      "/tmp/ipykernel_521724/299494027.py:1: SettingWithCopyWarning: \n",
      "A value is trying to be set on a copy of a slice from a DataFrame.\n",
      "Try using .loc[row_indexer,col_indexer] = value instead\n",
      "\n",
      "See the caveats in the documentation: https://pandas.pydata.org/pandas-docs/stable/user_guide/indexing.html#returning-a-view-versus-a-copy\n",
      "  test_result[\"question_label\"] = test_result[\"question_id\"].apply(lambda x: map_question_scores(x))\n"
     ]
    }
   ],
   "source": [
    "test_result[\"question_label\"] = test_result[\"question_id\"].apply(lambda x: map_question_scores(x))"
   ]
  },
  {
   "cell_type": "code",
   "execution_count": 45,
   "metadata": {},
   "outputs": [],
   "source": [
    "# test_result[\"prediction\"] = test_result[\"prediction\"].astype(str)\n",
    "# test_result[\"label\"] = test_result[\"label\"].astype(str)"
   ]
  },
  {
   "cell_type": "code",
   "execution_count": 46,
   "metadata": {},
   "outputs": [
    {
     "data": {
      "text/plain": [
       "0.6060230629943772"
      ]
     },
     "execution_count": 46,
     "metadata": {},
     "output_type": "execute_result"
    }
   ],
   "source": [
    "test_overall_accuracy  = accuracy_score(test_result[\"vqa_prediction\"], test_result[\"vqa_label\"])\n",
    "test_overall_accuracy"
   ]
  },
  {
   "cell_type": "code",
   "execution_count": 47,
   "metadata": {},
   "outputs": [],
   "source": [
    "sorted_unique_labels = [\"yes/no\", \"object\", \"color\", \"number\", \"location\",\"human\", \"action\", \"sport\", \"other\"]"
   ]
  },
  {
   "cell_type": "code",
   "execution_count": 48,
   "metadata": {},
   "outputs": [],
   "source": [
    "sub_accurancy = {}\n",
    "for question_type_value in sorted_unique_labels:\n",
    "    sub_test_result = test_result[test_result[\"question_label\"] == question_type_value]\n",
    "    sub_accuracy_i = accuracy_score(sub_test_result[\"vqa_prediction\"], sub_test_result[\"vqa_label\"])\n",
    "    sub_accurancy[\"test_vqa_accuracy_\" + question_type_value] = sub_accuracy_i"
   ]
  },
  {
   "cell_type": "code",
   "execution_count": 49,
   "metadata": {},
   "outputs": [
    {
     "data": {
      "text/plain": [
       "{'test_vqa_accuracy_yes/no': 0.8603542234332425,\n",
       " 'test_vqa_accuracy_object': 0.3763440860215054,\n",
       " 'test_vqa_accuracy_color': 0.4199395770392749,\n",
       " 'test_vqa_accuracy_number': 0.6505555555555556,\n",
       " 'test_vqa_accuracy_location': 0.42065009560229444,\n",
       " 'test_vqa_accuracy_human': 0.4342105263157895,\n",
       " 'test_vqa_accuracy_action': 0.7569593147751607,\n",
       " 'test_vqa_accuracy_sport': 1.0,\n",
       " 'test_vqa_accuracy_other': 0.6}"
      ]
     },
     "execution_count": 49,
     "metadata": {},
     "output_type": "execute_result"
    }
   ],
   "source": [
    "sub_accurancy"
   ]
  },
  {
   "cell_type": "code",
   "execution_count": 50,
   "metadata": {},
   "outputs": [],
   "source": [
    "run_id = \"kspte150\""
   ]
  },
  {
   "cell_type": "code",
   "execution_count": 51,
   "metadata": {},
   "outputs": [
    {
     "data": {
      "text/html": [
       "Tracking run with wandb version 0.16.4"
      ],
      "text/plain": [
       "<IPython.core.display.HTML object>"
      ]
     },
     "metadata": {},
     "output_type": "display_data"
    },
    {
     "data": {
      "text/html": [
       "Run data is saved locally in <code>/home/ngoc/githubs/chatgpt-hie-vqa/result_analysis/wandb/run-20240324_235451-kspte150</code>"
      ],
      "text/plain": [
       "<IPython.core.display.HTML object>"
      ]
     },
     "metadata": {},
     "output_type": "display_data"
    },
    {
     "data": {
      "text/html": [
       "Resuming run <strong><a href='https://wandb.ai/ngocdunghuynh/VQA%20new/runs/kspte150' target=\"_blank\">rank-0</a></strong> to <a href='https://wandb.ai/ngocdunghuynh/VQA%20new' target=\"_blank\">Weights & Biases</a> (<a href='https://wandb.me/run' target=\"_blank\">docs</a>)<br/>"
      ],
      "text/plain": [
       "<IPython.core.display.HTML object>"
      ]
     },
     "metadata": {},
     "output_type": "display_data"
    },
    {
     "data": {
      "text/html": [
       " View project at <a href='https://wandb.ai/ngocdunghuynh/VQA%20new' target=\"_blank\">https://wandb.ai/ngocdunghuynh/VQA%20new</a>"
      ],
      "text/plain": [
       "<IPython.core.display.HTML object>"
      ]
     },
     "metadata": {},
     "output_type": "display_data"
    },
    {
     "data": {
      "text/html": [
       " View run at <a href='https://wandb.ai/ngocdunghuynh/VQA%20new/runs/kspte150' target=\"_blank\">https://wandb.ai/ngocdunghuynh/VQA%20new/runs/kspte150</a>"
      ],
      "text/plain": [
       "<IPython.core.display.HTML object>"
      ]
     },
     "metadata": {},
     "output_type": "display_data"
    },
    {
     "data": {
      "text/html": [
       "<button onClick=\"this.nextSibling.style.display='block';this.style.display='none';\">Display W&B run</button><iframe src='https://wandb.ai/ngocdunghuynh/VQA%20new/runs/kspte150?jupyter=true' style='border:none;width:100%;height:420px;display:none;'></iframe>"
      ],
      "text/plain": [
       "<wandb.sdk.wandb_run.Run at 0x7f80924f76d0>"
      ]
     },
     "execution_count": 51,
     "metadata": {},
     "output_type": "execute_result"
    }
   ],
   "source": [
    "\n",
    "wandb.init(project=\"VQA new\", id=run_id, resume=\"must\")"
   ]
  },
  {
   "cell_type": "code",
   "execution_count": 52,
   "metadata": {},
   "outputs": [],
   "source": [
    "wandb.log({\"test_vqa_accuracy\": test_overall_accuracy})"
   ]
  },
  {
   "cell_type": "code",
   "execution_count": 53,
   "metadata": {},
   "outputs": [],
   "source": [
    "wandb.log(sub_accurancy)"
   ]
  },
  {
   "cell_type": "code",
   "execution_count": 54,
   "metadata": {},
   "outputs": [],
   "source": [
    "test_question_type_accuracy = classification_report(test_result[\"question_prediction\"], test_result[\"question_label\"], output_dict=True)"
   ]
  },
  {
   "cell_type": "code",
   "execution_count": 55,
   "metadata": {},
   "outputs": [],
   "source": [
    "new_test_question_type_accuracy = {}\n",
    "for key in test_question_type_accuracy:\n",
    "    new_test_question_type_accuracy[\"question_type_\" + key] = test_question_type_accuracy[key]\n",
    "del(test_question_type_accuracy)"
   ]
  },
  {
   "cell_type": "code",
   "execution_count": 56,
   "metadata": {},
   "outputs": [],
   "source": [
    "wandb.log(new_test_question_type_accuracy)"
   ]
  },
  {
   "cell_type": "code",
   "execution_count": 57,
   "metadata": {},
   "outputs": [],
   "source": [
    "y_true = test_result['question_label']\n",
    "y_pred = test_result['question_prediction']\n",
    "sorted_unique_labels = [\"yes/no\", \"object\", \"color\", \"number\", \"location\",\"human\", \"action\", \"sport\", \"other\"]\n",
    "\n",
    "conf_matrix = confusion_matrix(y_true, y_pred, labels=sorted_unique_labels)\n",
    "conf_matrix_normalized = conf_matrix.astype('float') / conf_matrix.sum(axis=1)[:, np.newaxis]\n",
    "plt.figure(figsize=(20, 9))\n",
    "plt.subplot(1, 2, 1)\n",
    "sns.heatmap(conf_matrix, annot=True, fmt='d', \n",
    "            xticklabels=sorted_unique_labels, yticklabels=sorted_unique_labels, \n",
    "            cmap='Blues', cbar=False)\n",
    "plt.title('Confusion Matrix')\n",
    "plt.xlabel('Predicted Type')\n",
    "plt.ylabel('True Type')\n",
    "plt.subplot(1, 2, 2)\n",
    "sns.heatmap(conf_matrix_normalized, annot=True, fmt='.2f', \n",
    "            xticklabels=sorted_unique_labels, yticklabels=sorted_unique_labels, \n",
    "            cmap='Blues', cbar=False)\n",
    "plt.title('Normalized Confusion Matrix')\n",
    "plt.xlabel('Predicted Type')\n",
    "plt.ylabel('True Type')\n",
    "plt.suptitle(f'Test confusion matrix')\n",
    "buffer = BytesIO()\n",
    "plt.savefig(buffer, format='png')\n",
    "buffer.seek(0)\n",
    "image = Image.open(buffer)\n",
    "image_array = np.array(image)\n",
    "wandb.log({\"Test Confusion Matrix\": wandb.Image(image_array)})\n",
    "plt.close()\n",
    "plt.show()"
   ]
  },
  {
   "cell_type": "code",
   "execution_count": 58,
   "metadata": {},
   "outputs": [
    {
     "name": "stderr",
     "output_type": "stream",
     "text": [
      "wandb: WARNING Ensure read and write access to run files dir: /home/ngoc/githubs/chatgpt-hie-vqa/result_analysis/wandb/run-20240324_235451-kspte150/files, control this via the WANDB_DIR env var. See https://docs.wandb.ai/guides/track/environment-variables\n"
     ]
    },
    {
     "data": {
      "application/vnd.jupyter.widget-view+json": {
       "model_id": "29257bfb04574fcfb3ae7acbd7f27f68",
       "version_major": 2,
       "version_minor": 0
      },
      "text/plain": [
       "VBox(children=(Label(value='0.000 MB of 0.109 MB uploaded\\r'), FloatProgress(value=0.0, max=1.0)))"
      ]
     },
     "metadata": {},
     "output_type": "display_data"
    },
    {
     "data": {
      "text/html": [
       "<style>\n",
       "    table.wandb td:nth-child(1) { padding: 0 10px; text-align: left ; width: auto;} td:nth-child(2) {text-align: left ; width: 100%}\n",
       "    .wandb-row { display: flex; flex-direction: row; flex-wrap: wrap; justify-content: flex-start; width: 100% }\n",
       "    .wandb-col { display: flex; flex-direction: column; flex-basis: 100%; flex: 1; padding: 10px; }\n",
       "    </style>\n",
       "<div class=\"wandb-row\"><div class=\"wandb-col\"><h3>Run history:</h3><br/><table class=\"wandb\"><tr><td>question_type_accuracy</td><td>▁</td></tr><tr><td>test_vqa_accuracy</td><td>▁</td></tr><tr><td>test_vqa_accuracy_action</td><td>▁</td></tr><tr><td>test_vqa_accuracy_color</td><td>▁</td></tr><tr><td>test_vqa_accuracy_human</td><td>▁</td></tr><tr><td>test_vqa_accuracy_location</td><td>▁</td></tr><tr><td>test_vqa_accuracy_number</td><td>▁</td></tr><tr><td>test_vqa_accuracy_object</td><td>▁</td></tr><tr><td>test_vqa_accuracy_other</td><td>▁</td></tr><tr><td>test_vqa_accuracy_sport</td><td>▁</td></tr><tr><td>test_vqa_accuracy_yes/no</td><td>▁</td></tr></table><br/></div><div class=\"wandb-col\"><h3>Run summary:</h3><br/><table class=\"wandb\"><tr><td>best_accuracy</td><td>0.55684</td></tr><tr><td>best_epoch</td><td>97</td></tr><tr><td>epoch</td><td>100</td></tr><tr><td>question_type_accuracy</td><td>0.99209</td></tr><tr><td>question_type_loss</td><td>3.7584</td></tr><tr><td>test_vqa_accuracy</td><td>0.60602</td></tr><tr><td>test_vqa_accuracy_action</td><td>0.75696</td></tr><tr><td>test_vqa_accuracy_color</td><td>0.41994</td></tr><tr><td>test_vqa_accuracy_human</td><td>0.43421</td></tr><tr><td>test_vqa_accuracy_location</td><td>0.42065</td></tr><tr><td>test_vqa_accuracy_number</td><td>0.65056</td></tr><tr><td>test_vqa_accuracy_object</td><td>0.37634</td></tr><tr><td>test_vqa_accuracy_other</td><td>0.6</td></tr><tr><td>test_vqa_accuracy_sport</td><td>1.0</td></tr><tr><td>test_vqa_accuracy_yes/no</td><td>0.86035</td></tr><tr><td>total_loss</td><td>50.63952</td></tr><tr><td>train_loss</td><td>57.85862</td></tr><tr><td>train_question_type_accuracy</td><td>0.99611</td></tr><tr><td>train_question_type_loss</td><td>3.54576</td></tr><tr><td>train_vqa_accuracy</td><td>0.71972</td></tr><tr><td>train_vqa_loss</td><td>54.31284</td></tr><tr><td>val_loss</td><td>249.70227</td></tr><tr><td>val_question_type_accuracy</td><td>0.99222</td></tr><tr><td>val_question_type_loss</td><td>9.14664</td></tr><tr><td>val_vqa_accuracy</td><td>0.54967</td></tr><tr><td>val_vqa_loss</td><td>240.55565</td></tr><tr><td>vqa_loss</td><td>46.88112</td></tr></table><br/></div></div>"
      ],
      "text/plain": [
       "<IPython.core.display.HTML object>"
      ]
     },
     "metadata": {},
     "output_type": "display_data"
    },
    {
     "data": {
      "text/html": [
       " View run <strong style=\"color:#cdcd00\">rank-0</strong> at: <a href='https://wandb.ai/ngocdunghuynh/VQA%20new/runs/kspte150' target=\"_blank\">https://wandb.ai/ngocdunghuynh/VQA%20new/runs/kspte150</a><br/>Synced 3 W&B file(s), 1 media file(s), 0 artifact file(s) and 1 other file(s)"
      ],
      "text/plain": [
       "<IPython.core.display.HTML object>"
      ]
     },
     "metadata": {},
     "output_type": "display_data"
    },
    {
     "data": {
      "text/html": [
       "Find logs at: <code>./wandb/run-20240324_235451-kspte150/logs</code>"
      ],
      "text/plain": [
       "<IPython.core.display.HTML object>"
      ]
     },
     "metadata": {},
     "output_type": "display_data"
    }
   ],
   "source": [
    "wandb.finish()"
   ]
  },
  {
   "cell_type": "code",
   "execution_count": null,
   "metadata": {},
   "outputs": [],
   "source": []
  },
  {
   "cell_type": "code",
   "execution_count": null,
   "metadata": {},
   "outputs": [],
   "source": []
  },
  {
   "cell_type": "code",
   "execution_count": null,
   "metadata": {},
   "outputs": [],
   "source": []
  },
  {
   "cell_type": "code",
   "execution_count": null,
   "metadata": {},
   "outputs": [],
   "source": []
  },
  {
   "cell_type": "code",
   "execution_count": null,
   "metadata": {},
   "outputs": [],
   "source": []
  },
  {
   "cell_type": "code",
   "execution_count": null,
   "metadata": {},
   "outputs": [],
   "source": []
  },
  {
   "cell_type": "code",
   "execution_count": null,
   "metadata": {},
   "outputs": [],
   "source": []
  },
  {
   "cell_type": "code",
   "execution_count": null,
   "metadata": {},
   "outputs": [],
   "source": []
  },
  {
   "cell_type": "code",
   "execution_count": null,
   "metadata": {},
   "outputs": [],
   "source": []
  },
  {
   "cell_type": "code",
   "execution_count": null,
   "metadata": {},
   "outputs": [],
   "source": []
  },
  {
   "cell_type": "code",
   "execution_count": null,
   "metadata": {},
   "outputs": [],
   "source": []
  },
  {
   "cell_type": "code",
   "execution_count": null,
   "metadata": {},
   "outputs": [],
   "source": []
  },
  {
   "cell_type": "code",
   "execution_count": null,
   "metadata": {},
   "outputs": [],
   "source": []
  },
  {
   "cell_type": "code",
   "execution_count": null,
   "metadata": {},
   "outputs": [],
   "source": []
  },
  {
   "cell_type": "code",
   "execution_count": null,
   "metadata": {},
   "outputs": [],
   "source": []
  },
  {
   "cell_type": "code",
   "execution_count": null,
   "metadata": {},
   "outputs": [],
   "source": []
  },
  {
   "cell_type": "code",
   "execution_count": null,
   "metadata": {},
   "outputs": [],
   "source": []
  },
  {
   "cell_type": "code",
   "execution_count": null,
   "metadata": {},
   "outputs": [],
   "source": []
  }
 ],
 "metadata": {
  "kernelspec": {
   "display_name": "pytorch1.12.1",
   "language": "python",
   "name": "python3"
  },
  "language_info": {
   "codemirror_mode": {
    "name": "ipython",
    "version": 3
   },
   "file_extension": ".py",
   "mimetype": "text/x-python",
   "name": "python",
   "nbconvert_exporter": "python",
   "pygments_lexer": "ipython3",
   "version": "3.9.18"
  }
 },
 "nbformat": 4,
 "nbformat_minor": 2
}
